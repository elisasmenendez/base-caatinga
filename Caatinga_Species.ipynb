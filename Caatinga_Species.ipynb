{
  "cells": [
    {
      "cell_type": "markdown",
      "metadata": {
        "id": "view-in-github",
        "colab_type": "text"
      },
      "source": [
        "<a href=\"https://colab.research.google.com/github/elisasmenendez/base-caatinga/blob/main/Caatinga_Species.ipynb\" target=\"_parent\"><img src=\"https://colab.research.google.com/assets/colab-badge.svg\" alt=\"Open In Colab\"/></a>"
      ]
    },
    {
      "cell_type": "markdown",
      "metadata": {
        "id": "yhmEZJDZhwyB"
      },
      "source": [
        "# Setup"
      ]
    },
    {
      "cell_type": "markdown",
      "metadata": {
        "id": "gBFUQR4Cj0cm"
      },
      "source": [
        "As Redes Neurais Convolucionais são mais adequadas para classificação de imagens. Nesta estratégia não é necessário utilizar todos os pixels da imagem pois são utilizados filtros para reduzir a dimensionalidade das imagens."
      ]
    },
    {
      "cell_type": "code",
      "execution_count": null,
      "metadata": {
        "id": "04beHmksi6jg"
      },
      "outputs": [],
      "source": [
        "!pip install split-folders\n",
        "#!pip install tensorflow==2.6.0"
      ]
    },
    {
      "cell_type": "code",
      "execution_count": null,
      "metadata": {
        "id": "1figM5WqgL3K"
      },
      "outputs": [],
      "source": [
        "# Baixando o arquivo diretamente do repositório do Git\n",
        "!wget https://github.com/elisasmenendez/base-caatinga/raw/refs/heads/main/Dataset.zip\n",
        "\n",
        "# Extrair o Dataset.zip com suporte a acentos\n",
        "!unzip -O ISO-8859-1 Dataset.zip"
      ]
    },
    {
      "cell_type": "code",
      "source": [
        "import os\n",
        "import splitfolders\n",
        "import tensorflow as tf\n",
        "from sklearn.utils.class_weight import compute_class_weight\n",
        "import pandas as pd\n",
        "import numpy as np"
      ],
      "metadata": {
        "id": "8oQWB3PtIKIa"
      },
      "execution_count": null,
      "outputs": []
    },
    {
      "cell_type": "markdown",
      "metadata": {
        "id": "stq4lQsCiMjc"
      },
      "source": [
        "# Treinamento e Teste"
      ]
    },
    {
      "cell_type": "code",
      "source": [
        "dataset_dir = \"Dataset\"\n",
        "\n",
        "for class_name in sorted(os.listdir(dataset_dir)):\n",
        "    class_path = os.path.join(dataset_dir, class_name)\n",
        "    if os.path.isdir(class_path):\n",
        "        num_images = len([\n",
        "            fname for fname in os.listdir(class_path)\n",
        "            if fname.lower().endswith(('.jpg', '.jpeg', '.png'))\n",
        "        ])\n",
        "        print(f\"{class_name}: {num_images} imagens\")"
      ],
      "metadata": {
        "colab": {
          "base_uri": "https://localhost:8080/"
        },
        "id": "XAsAPrO2EmyG",
        "outputId": "34693373-0016-4b25-ae53-a07192a41700"
      },
      "execution_count": null,
      "outputs": [
        {
          "output_type": "stream",
          "name": "stdout",
          "text": [
            "Facheiro: 19 imagens\n",
            "Jericó: 27 imagens\n",
            "Macambira-de-flecha: 50 imagens\n",
            "Marmeleiro: 20 imagens\n",
            "Palmatória: 50 imagens\n",
            "Quipá: 50 imagens\n",
            "Xique-Xique: 50 imagens\n"
          ]
        }
      ]
    },
    {
      "cell_type": "code",
      "source": [
        "splitfolders.ratio(\"Dataset\", output=\"Dataset_split\", seed=42, ratio=(.8, .2), move=False)"
      ],
      "metadata": {
        "id": "Lr-qtn4jGynH"
      },
      "execution_count": null,
      "outputs": []
    },
    {
      "cell_type": "markdown",
      "source": [
        "# Data augmentation"
      ],
      "metadata": {
        "id": "YRcl-ptGUjie"
      }
    },
    {
      "cell_type": "code",
      "source": [
        "import unicodedata\n",
        "\n",
        "def normalize(text):\n",
        "    return unicodedata.normalize(\"NFC\", text)"
      ],
      "metadata": {
        "id": "6IMKJ3VYmfcD"
      },
      "execution_count": null,
      "outputs": []
    },
    {
      "cell_type": "code",
      "source": [
        "fixed_class_names = [\n",
        "    \"Facheiro\",\n",
        "    \"Jericó\",\n",
        "    \"Macambira-de-flecha\",\n",
        "    \"Marmeleiro\",\n",
        "    \"Palmatória\",\n",
        "    \"Xique-Xique\",\n",
        "    \"Quipá\",\n",
        "]\n",
        "\n",
        "label_to_index = {\n",
        "    normalize(name): idx for idx, name in enumerate(fixed_class_names)\n",
        "}"
      ],
      "metadata": {
        "id": "HwqcUAAUjPtW"
      },
      "execution_count": null,
      "outputs": []
    },
    {
      "cell_type": "code",
      "source": [
        "label_to_index"
      ],
      "metadata": {
        "colab": {
          "base_uri": "https://localhost:8080/"
        },
        "id": "EAsjbwBImsgv",
        "outputId": "378f10b3-3b6c-4024-8f1d-f5066dc15144"
      },
      "execution_count": null,
      "outputs": [
        {
          "output_type": "execute_result",
          "data": {
            "text/plain": [
              "{'Facheiro': 0,\n",
              " 'Jericó': 1,\n",
              " 'Macambira-de-flecha': 2,\n",
              " 'Marmeleiro': 3,\n",
              " 'Palmatória': 4,\n",
              " 'Xique-Xique': 5,\n",
              " 'Quipá': 6}"
            ]
          },
          "metadata": {},
          "execution_count": 90
        }
      ]
    },
    {
      "cell_type": "code",
      "source": [
        "def remap_labels(images, labels):\n",
        "    class_names = train_ds_raw.class_names  # ordem automática do TensorFlow\n",
        "    remapped_labels = tf.convert_to_tensor([\n",
        "        label_to_index[normalize(class_names[label])] for label in labels.numpy()\n",
        "    ])\n",
        "    return images, remapped_labels\n",
        "\n",
        "# Usar .map() com tf.py_function porque labels.numpy() é necessário\n",
        "def tf_remap(images, labels):\n",
        "    remapped_images, remapped_labels = tf.py_function(\n",
        "        func=remap_labels,\n",
        "        inp=[images, labels],\n",
        "        Tout=(tf.float32, tf.int32)\n",
        "    )\n",
        "    remapped_images.set_shape((None, 224, 224, 3))\n",
        "    remapped_labels.set_shape((None,))\n",
        "    return remapped_images, remapped_labels"
      ],
      "metadata": {
        "id": "6gsAD4AijSea"
      },
      "execution_count": null,
      "outputs": []
    },
    {
      "cell_type": "code",
      "source": [
        "train_ds_raw = tf.keras.preprocessing.image_dataset_from_directory(\n",
        "    \"Dataset_split/train\",\n",
        "    image_size=(224, 224),\n",
        "    batch_size=32,\n",
        "    label_mode=\"int\"\n",
        ")\n",
        "\n",
        "val_ds_raw = tf.keras.preprocessing.image_dataset_from_directory(\n",
        "    \"Dataset_split/val\",\n",
        "    image_size=(224, 224),\n",
        "    batch_size=32,\n",
        "    label_mode=\"int\"\n",
        ")\n",
        "\n",
        "# Salva a ordem original das classes detectadas automaticamente\n",
        "original_class_names = train_ds_raw.class_names\n",
        "\n",
        "# Deixar com a ordem certa\n",
        "train_ds = train_ds_raw.map(tf_remap)\n",
        "val_ds = val_ds_raw.map(tf_remap)\n",
        "\n",
        "# Data augmentation (apenas treino)\n",
        "data_augmentation = tf.keras.Sequential([\n",
        "    tf.keras.layers.RandomFlip(\"horizontal\"),\n",
        "    tf.keras.layers.RandomRotation(0.1),\n",
        "    tf.keras.layers.RandomZoom(0.1)\n",
        "])\n",
        "\n",
        "AUTOTUNE = tf.data.AUTOTUNE\n",
        "\n",
        "augmented_train_ds = train_ds.map(\n",
        "    lambda x, y: (data_augmentation(x, training=True), y),\n",
        "    num_parallel_calls=AUTOTUNE\n",
        ").prefetch(AUTOTUNE)\n",
        "\n",
        "val_ds = val_ds.prefetch(AUTOTUNE)\n",
        "\n",
        "# Calcular pesos das classes\n",
        "all_labels = []\n",
        "for _, labels in train_ds:\n",
        "    all_labels.extend(labels.numpy())\n",
        "\n",
        "class_weights = compute_class_weight(\n",
        "    class_weight=\"balanced\",\n",
        "    classes=np.unique(all_labels),\n",
        "    y=all_labels\n",
        ")\n",
        "\n",
        "class_weights_dict = dict(enumerate(class_weights))\n",
        "\n",
        "# Mostrar pesos das classes\n",
        "df = pd.DataFrame({\n",
        "    \"Classe\": fixed_class_names,\n",
        "    \"Peso\": [class_weights_dict[i] for i in range(len(fixed_class_names))]\n",
        "})\n",
        "print(df)"
      ],
      "metadata": {
        "colab": {
          "base_uri": "https://localhost:8080/"
        },
        "id": "9c13CrfwM4Rv",
        "outputId": "0d18930e-6308-4118-b683-db04c2b3629c"
      },
      "execution_count": null,
      "outputs": [
        {
          "output_type": "stream",
          "name": "stdout",
          "text": [
            "Found 212 files belonging to 7 classes.\n",
            "Found 54 files belonging to 7 classes.\n",
            "                Classe      Peso\n",
            "0             Facheiro  2.019048\n",
            "1               Jericó  1.442177\n",
            "2  Macambira-de-flecha  0.757143\n",
            "3           Marmeleiro  1.892857\n",
            "4           Palmatória  0.757143\n",
            "5          Xique-Xique  0.757143\n",
            "6                Quipá  0.757143\n"
          ]
        }
      ]
    },
    {
      "cell_type": "markdown",
      "metadata": {
        "id": "bTSXqzWyCHUW"
      },
      "source": [
        "# Construção e treinamento da rede neural"
      ]
    },
    {
      "cell_type": "code",
      "source": [
        "# Número de classes do dataset\n",
        "num_classes = len(fixed_class_names)\n",
        "\n",
        "# Modelo baseado na MobileNetV2\n",
        "base_model = tf.keras.applications.MobileNetV2(\n",
        "    input_shape=(224, 224, 3),\n",
        "    include_top=False,\n",
        "    weights='imagenet'\n",
        ")\n",
        "base_model.trainable = False  # Congela a base pré-treinada\n",
        "\n",
        "# Construção do modelo final\n",
        "model = tf.keras.Sequential([\n",
        "    tf.keras.layers.Rescaling(1./255),  # Normalização\n",
        "    data_augmentation,                 # Aumento de dados (apenas treino)\n",
        "    base_model,\n",
        "    tf.keras.layers.GlobalAveragePooling2D(),\n",
        "    tf.keras.layers.Dense(128, activation='relu'),\n",
        "    tf.keras.layers.Dropout(0.3),\n",
        "    tf.keras.layers.Dense(num_classes, activation='softmax')\n",
        "])\n",
        "\n",
        "# Compilar o modelo\n",
        "model.compile(\n",
        "    optimizer='adam',\n",
        "    loss='sparse_categorical_crossentropy',\n",
        "    metrics=['accuracy']\n",
        ")\n",
        "\n",
        "# Exibir o resumo do modelo\n",
        "model.summary()"
      ],
      "metadata": {
        "colab": {
          "base_uri": "https://localhost:8080/",
          "height": 397
        },
        "id": "h7WLS7tOUQmP",
        "outputId": "e806d494-e5c1-4e93-8442-ae2636615c03"
      },
      "execution_count": null,
      "outputs": [
        {
          "output_type": "display_data",
          "data": {
            "text/plain": [
              "\u001b[1mModel: \"sequential_10\"\u001b[0m\n"
            ],
            "text/html": [
              "<pre style=\"white-space:pre;overflow-x:auto;line-height:normal;font-family:Menlo,'DejaVu Sans Mono',consolas,'Courier New',monospace\"><span style=\"font-weight: bold\">Model: \"sequential_10\"</span>\n",
              "</pre>\n"
            ]
          },
          "metadata": {}
        },
        {
          "output_type": "display_data",
          "data": {
            "text/plain": [
              "┏━━━━━━━━━━━━━━━━━━━━━━━━━━━━━━━━━┳━━━━━━━━━━━━━━━━━━━━━━━━┳━━━━━━━━━━━━━━━┓\n",
              "┃\u001b[1m \u001b[0m\u001b[1mLayer (type)                   \u001b[0m\u001b[1m \u001b[0m┃\u001b[1m \u001b[0m\u001b[1mOutput Shape          \u001b[0m\u001b[1m \u001b[0m┃\u001b[1m \u001b[0m\u001b[1m      Param #\u001b[0m\u001b[1m \u001b[0m┃\n",
              "┡━━━━━━━━━━━━━━━━━━━━━━━━━━━━━━━━━╇━━━━━━━━━━━━━━━━━━━━━━━━╇━━━━━━━━━━━━━━━┩\n",
              "│ rescaling_1 (\u001b[38;5;33mRescaling\u001b[0m)         │ ?                      │   \u001b[38;5;34m0\u001b[0m (unbuilt) │\n",
              "├─────────────────────────────────┼────────────────────────┼───────────────┤\n",
              "│ sequential_9 (\u001b[38;5;33mSequential\u001b[0m)       │ (\u001b[38;5;45mNone\u001b[0m, \u001b[38;5;34m224\u001b[0m, \u001b[38;5;34m224\u001b[0m, \u001b[38;5;34m3\u001b[0m)    │             \u001b[38;5;34m0\u001b[0m │\n",
              "├─────────────────────────────────┼────────────────────────┼───────────────┤\n",
              "│ mobilenetv2_1.00_224            │ (\u001b[38;5;45mNone\u001b[0m, \u001b[38;5;34m7\u001b[0m, \u001b[38;5;34m7\u001b[0m, \u001b[38;5;34m1280\u001b[0m)     │     \u001b[38;5;34m2,257,984\u001b[0m │\n",
              "│ (\u001b[38;5;33mFunctional\u001b[0m)                    │                        │               │\n",
              "├─────────────────────────────────┼────────────────────────┼───────────────┤\n",
              "│ global_average_pooling2d_1      │ ?                      │             \u001b[38;5;34m0\u001b[0m │\n",
              "│ (\u001b[38;5;33mGlobalAveragePooling2D\u001b[0m)        │                        │               │\n",
              "├─────────────────────────────────┼────────────────────────┼───────────────┤\n",
              "│ dense_2 (\u001b[38;5;33mDense\u001b[0m)                 │ ?                      │   \u001b[38;5;34m0\u001b[0m (unbuilt) │\n",
              "├─────────────────────────────────┼────────────────────────┼───────────────┤\n",
              "│ dropout_1 (\u001b[38;5;33mDropout\u001b[0m)             │ ?                      │             \u001b[38;5;34m0\u001b[0m │\n",
              "├─────────────────────────────────┼────────────────────────┼───────────────┤\n",
              "│ dense_3 (\u001b[38;5;33mDense\u001b[0m)                 │ ?                      │   \u001b[38;5;34m0\u001b[0m (unbuilt) │\n",
              "└─────────────────────────────────┴────────────────────────┴───────────────┘\n"
            ],
            "text/html": [
              "<pre style=\"white-space:pre;overflow-x:auto;line-height:normal;font-family:Menlo,'DejaVu Sans Mono',consolas,'Courier New',monospace\">┏━━━━━━━━━━━━━━━━━━━━━━━━━━━━━━━━━┳━━━━━━━━━━━━━━━━━━━━━━━━┳━━━━━━━━━━━━━━━┓\n",
              "┃<span style=\"font-weight: bold\"> Layer (type)                    </span>┃<span style=\"font-weight: bold\"> Output Shape           </span>┃<span style=\"font-weight: bold\">       Param # </span>┃\n",
              "┡━━━━━━━━━━━━━━━━━━━━━━━━━━━━━━━━━╇━━━━━━━━━━━━━━━━━━━━━━━━╇━━━━━━━━━━━━━━━┩\n",
              "│ rescaling_1 (<span style=\"color: #0087ff; text-decoration-color: #0087ff\">Rescaling</span>)         │ ?                      │   <span style=\"color: #00af00; text-decoration-color: #00af00\">0</span> (unbuilt) │\n",
              "├─────────────────────────────────┼────────────────────────┼───────────────┤\n",
              "│ sequential_9 (<span style=\"color: #0087ff; text-decoration-color: #0087ff\">Sequential</span>)       │ (<span style=\"color: #00d7ff; text-decoration-color: #00d7ff\">None</span>, <span style=\"color: #00af00; text-decoration-color: #00af00\">224</span>, <span style=\"color: #00af00; text-decoration-color: #00af00\">224</span>, <span style=\"color: #00af00; text-decoration-color: #00af00\">3</span>)    │             <span style=\"color: #00af00; text-decoration-color: #00af00\">0</span> │\n",
              "├─────────────────────────────────┼────────────────────────┼───────────────┤\n",
              "│ mobilenetv2_1.00_224            │ (<span style=\"color: #00d7ff; text-decoration-color: #00d7ff\">None</span>, <span style=\"color: #00af00; text-decoration-color: #00af00\">7</span>, <span style=\"color: #00af00; text-decoration-color: #00af00\">7</span>, <span style=\"color: #00af00; text-decoration-color: #00af00\">1280</span>)     │     <span style=\"color: #00af00; text-decoration-color: #00af00\">2,257,984</span> │\n",
              "│ (<span style=\"color: #0087ff; text-decoration-color: #0087ff\">Functional</span>)                    │                        │               │\n",
              "├─────────────────────────────────┼────────────────────────┼───────────────┤\n",
              "│ global_average_pooling2d_1      │ ?                      │             <span style=\"color: #00af00; text-decoration-color: #00af00\">0</span> │\n",
              "│ (<span style=\"color: #0087ff; text-decoration-color: #0087ff\">GlobalAveragePooling2D</span>)        │                        │               │\n",
              "├─────────────────────────────────┼────────────────────────┼───────────────┤\n",
              "│ dense_2 (<span style=\"color: #0087ff; text-decoration-color: #0087ff\">Dense</span>)                 │ ?                      │   <span style=\"color: #00af00; text-decoration-color: #00af00\">0</span> (unbuilt) │\n",
              "├─────────────────────────────────┼────────────────────────┼───────────────┤\n",
              "│ dropout_1 (<span style=\"color: #0087ff; text-decoration-color: #0087ff\">Dropout</span>)             │ ?                      │             <span style=\"color: #00af00; text-decoration-color: #00af00\">0</span> │\n",
              "├─────────────────────────────────┼────────────────────────┼───────────────┤\n",
              "│ dense_3 (<span style=\"color: #0087ff; text-decoration-color: #0087ff\">Dense</span>)                 │ ?                      │   <span style=\"color: #00af00; text-decoration-color: #00af00\">0</span> (unbuilt) │\n",
              "└─────────────────────────────────┴────────────────────────┴───────────────┘\n",
              "</pre>\n"
            ]
          },
          "metadata": {}
        },
        {
          "output_type": "display_data",
          "data": {
            "text/plain": [
              "\u001b[1m Total params: \u001b[0m\u001b[38;5;34m2,257,984\u001b[0m (8.61 MB)\n"
            ],
            "text/html": [
              "<pre style=\"white-space:pre;overflow-x:auto;line-height:normal;font-family:Menlo,'DejaVu Sans Mono',consolas,'Courier New',monospace\"><span style=\"font-weight: bold\"> Total params: </span><span style=\"color: #00af00; text-decoration-color: #00af00\">2,257,984</span> (8.61 MB)\n",
              "</pre>\n"
            ]
          },
          "metadata": {}
        },
        {
          "output_type": "display_data",
          "data": {
            "text/plain": [
              "\u001b[1m Trainable params: \u001b[0m\u001b[38;5;34m0\u001b[0m (0.00 B)\n"
            ],
            "text/html": [
              "<pre style=\"white-space:pre;overflow-x:auto;line-height:normal;font-family:Menlo,'DejaVu Sans Mono',consolas,'Courier New',monospace\"><span style=\"font-weight: bold\"> Trainable params: </span><span style=\"color: #00af00; text-decoration-color: #00af00\">0</span> (0.00 B)\n",
              "</pre>\n"
            ]
          },
          "metadata": {}
        },
        {
          "output_type": "display_data",
          "data": {
            "text/plain": [
              "\u001b[1m Non-trainable params: \u001b[0m\u001b[38;5;34m2,257,984\u001b[0m (8.61 MB)\n"
            ],
            "text/html": [
              "<pre style=\"white-space:pre;overflow-x:auto;line-height:normal;font-family:Menlo,'DejaVu Sans Mono',consolas,'Courier New',monospace\"><span style=\"font-weight: bold\"> Non-trainable params: </span><span style=\"color: #00af00; text-decoration-color: #00af00\">2,257,984</span> (8.61 MB)\n",
              "</pre>\n"
            ]
          },
          "metadata": {}
        }
      ]
    },
    {
      "cell_type": "code",
      "source": [
        "model.fit(\n",
        "    augmented_train_ds,\n",
        "    validation_data=val_ds,\n",
        "    epochs=20,\n",
        "    class_weight=class_weights_dict\n",
        ")"
      ],
      "metadata": {
        "colab": {
          "base_uri": "https://localhost:8080/"
        },
        "id": "4nNXksJIVSdP",
        "outputId": "52b4de10-e75c-414f-edd3-6a2dfd6c7fe0"
      },
      "execution_count": null,
      "outputs": [
        {
          "output_type": "stream",
          "name": "stdout",
          "text": [
            "Epoch 1/20\n",
            "\u001b[1m7/7\u001b[0m \u001b[32m━━━━━━━━━━━━━━━━━━━━\u001b[0m\u001b[37m\u001b[0m \u001b[1m32s\u001b[0m 3s/step - accuracy: 0.2071 - loss: 2.2018 - val_accuracy: 0.7407 - val_loss: 1.0006\n",
            "Epoch 2/20\n",
            "\u001b[1m7/7\u001b[0m \u001b[32m━━━━━━━━━━━━━━━━━━━━\u001b[0m\u001b[37m\u001b[0m \u001b[1m22s\u001b[0m 2s/step - accuracy: 0.7211 - loss: 0.8675 - val_accuracy: 0.8704 - val_loss: 0.6209\n",
            "Epoch 3/20\n",
            "\u001b[1m7/7\u001b[0m \u001b[32m━━━━━━━━━━━━━━━━━━━━\u001b[0m\u001b[37m\u001b[0m \u001b[1m19s\u001b[0m 2s/step - accuracy: 0.7955 - loss: 0.5148 - val_accuracy: 0.8519 - val_loss: 0.4236\n",
            "Epoch 4/20\n",
            "\u001b[1m7/7\u001b[0m \u001b[32m━━━━━━━━━━━━━━━━━━━━\u001b[0m\u001b[37m\u001b[0m \u001b[1m23s\u001b[0m 3s/step - accuracy: 0.8755 - loss: 0.3845 - val_accuracy: 0.8519 - val_loss: 0.3596\n",
            "Epoch 5/20\n",
            "\u001b[1m7/7\u001b[0m \u001b[32m━━━━━━━━━━━━━━━━━━━━\u001b[0m\u001b[37m\u001b[0m \u001b[1m19s\u001b[0m 2s/step - accuracy: 0.9250 - loss: 0.2590 - val_accuracy: 0.8704 - val_loss: 0.3167\n",
            "Epoch 6/20\n",
            "\u001b[1m7/7\u001b[0m \u001b[32m━━━━━━━━━━━━━━━━━━━━\u001b[0m\u001b[37m\u001b[0m \u001b[1m21s\u001b[0m 2s/step - accuracy: 0.9258 - loss: 0.2211 - val_accuracy: 0.8519 - val_loss: 0.3467\n",
            "Epoch 7/20\n",
            "\u001b[1m7/7\u001b[0m \u001b[32m━━━━━━━━━━━━━━━━━━━━\u001b[0m\u001b[37m\u001b[0m \u001b[1m19s\u001b[0m 2s/step - accuracy: 0.8988 - loss: 0.2001 - val_accuracy: 0.8889 - val_loss: 0.3105\n",
            "Epoch 8/20\n",
            "\u001b[1m7/7\u001b[0m \u001b[32m━━━━━━━━━━━━━━━━━━━━\u001b[0m\u001b[37m\u001b[0m \u001b[1m24s\u001b[0m 3s/step - accuracy: 0.9306 - loss: 0.1731 - val_accuracy: 0.8889 - val_loss: 0.2876\n",
            "Epoch 9/20\n",
            "\u001b[1m7/7\u001b[0m \u001b[32m━━━━━━━━━━━━━━━━━━━━\u001b[0m\u001b[37m\u001b[0m \u001b[1m19s\u001b[0m 2s/step - accuracy: 0.9534 - loss: 0.1481 - val_accuracy: 0.8704 - val_loss: 0.2916\n",
            "Epoch 10/20\n",
            "\u001b[1m7/7\u001b[0m \u001b[32m━━━━━━━━━━━━━━━━━━━━\u001b[0m\u001b[37m\u001b[0m \u001b[1m23s\u001b[0m 3s/step - accuracy: 0.9738 - loss: 0.1106 - val_accuracy: 0.9259 - val_loss: 0.2477\n",
            "Epoch 11/20\n",
            "\u001b[1m7/7\u001b[0m \u001b[32m━━━━━━━━━━━━━━━━━━━━\u001b[0m\u001b[37m\u001b[0m \u001b[1m19s\u001b[0m 2s/step - accuracy: 0.9503 - loss: 0.1406 - val_accuracy: 0.9259 - val_loss: 0.2502\n",
            "Epoch 12/20\n",
            "\u001b[1m7/7\u001b[0m \u001b[32m━━━━━━━━━━━━━━━━━━━━\u001b[0m\u001b[37m\u001b[0m \u001b[1m21s\u001b[0m 3s/step - accuracy: 0.9779 - loss: 0.0781 - val_accuracy: 0.9259 - val_loss: 0.2571\n",
            "Epoch 13/20\n",
            "\u001b[1m7/7\u001b[0m \u001b[32m━━━━━━━━━━━━━━━━━━━━\u001b[0m\u001b[37m\u001b[0m \u001b[1m39s\u001b[0m 2s/step - accuracy: 0.9627 - loss: 0.1212 - val_accuracy: 0.8704 - val_loss: 0.3325\n",
            "Epoch 14/20\n",
            "\u001b[1m7/7\u001b[0m \u001b[32m━━━━━━━━━━━━━━━━━━━━\u001b[0m\u001b[37m\u001b[0m \u001b[1m19s\u001b[0m 2s/step - accuracy: 0.9798 - loss: 0.0870 - val_accuracy: 0.9074 - val_loss: 0.2776\n",
            "Epoch 15/20\n",
            "\u001b[1m7/7\u001b[0m \u001b[32m━━━━━━━━━━━━━━━━━━━━\u001b[0m\u001b[37m\u001b[0m \u001b[1m19s\u001b[0m 2s/step - accuracy: 0.9775 - loss: 0.0641 - val_accuracy: 0.9074 - val_loss: 0.2494\n",
            "Epoch 16/20\n",
            "\u001b[1m7/7\u001b[0m \u001b[32m━━━━━━━━━━━━━━━━━━━━\u001b[0m\u001b[37m\u001b[0m \u001b[1m21s\u001b[0m 2s/step - accuracy: 0.9863 - loss: 0.0649 - val_accuracy: 0.9074 - val_loss: 0.2495\n",
            "Epoch 17/20\n",
            "\u001b[1m7/7\u001b[0m \u001b[32m━━━━━━━━━━━━━━━━━━━━\u001b[0m\u001b[37m\u001b[0m \u001b[1m19s\u001b[0m 2s/step - accuracy: 0.9933 - loss: 0.0610 - val_accuracy: 0.9259 - val_loss: 0.2455\n",
            "Epoch 18/20\n",
            "\u001b[1m7/7\u001b[0m \u001b[32m━━━━━━━━━━━━━━━━━━━━\u001b[0m\u001b[37m\u001b[0m \u001b[1m22s\u001b[0m 3s/step - accuracy: 0.9804 - loss: 0.0682 - val_accuracy: 0.8889 - val_loss: 0.2812\n",
            "Epoch 19/20\n",
            "\u001b[1m7/7\u001b[0m \u001b[32m━━━━━━━━━━━━━━━━━━━━\u001b[0m\u001b[37m\u001b[0m \u001b[1m41s\u001b[0m 3s/step - accuracy: 0.9703 - loss: 0.0740 - val_accuracy: 0.9259 - val_loss: 0.2478\n",
            "Epoch 20/20\n",
            "\u001b[1m7/7\u001b[0m \u001b[32m━━━━━━━━━━━━━━━━━━━━\u001b[0m\u001b[37m\u001b[0m \u001b[1m19s\u001b[0m 2s/step - accuracy: 0.9896 - loss: 0.0561 - val_accuracy: 0.9259 - val_loss: 0.2482\n"
          ]
        },
        {
          "output_type": "execute_result",
          "data": {
            "text/plain": [
              "<keras.src.callbacks.history.History at 0x7894c301fad0>"
            ]
          },
          "metadata": {},
          "execution_count": 95
        }
      ]
    },
    {
      "cell_type": "markdown",
      "metadata": {
        "id": "Ld-eNk2VCR7N"
      },
      "source": [
        "# Avaliação da rede neural"
      ]
    },
    {
      "cell_type": "code",
      "source": [
        "from sklearn.metrics import accuracy_score\n",
        "import numpy as np\n",
        "\n",
        "# 1. Obter previsões do modelo\n",
        "y_true = []\n",
        "y_pred = []\n",
        "\n",
        "for images, labels in val_ds:\n",
        "    preds = model.predict(images)\n",
        "    predicted_classes = np.argmax(preds, axis=1)\n",
        "\n",
        "    y_true.extend(labels.numpy())\n",
        "    y_pred.extend(predicted_classes)\n",
        "\n",
        "# 2. Calcular accuracy\n",
        "acc = accuracy_score(y_true, y_pred)\n",
        "print(f\"Accuracy: {acc:.4f}\")\n"
      ],
      "metadata": {
        "colab": {
          "base_uri": "https://localhost:8080/"
        },
        "id": "8f8kOmMtXq7B",
        "outputId": "ddd32a04-dcc9-4f67-ff22-d41c1013715b"
      },
      "execution_count": null,
      "outputs": [
        {
          "output_type": "stream",
          "name": "stdout",
          "text": [
            "\u001b[1m1/1\u001b[0m \u001b[32m━━━━━━━━━━━━━━━━━━━━\u001b[0m\u001b[37m\u001b[0m \u001b[1m4s\u001b[0m 4s/step\n",
            "\u001b[1m1/1\u001b[0m \u001b[32m━━━━━━━━━━━━━━━━━━━━\u001b[0m\u001b[37m\u001b[0m \u001b[1m3s\u001b[0m 3s/step\n",
            "Accuracy: 0.9259\n"
          ]
        }
      ]
    },
    {
      "cell_type": "code",
      "source": [
        "from sklearn.metrics import classification_report, confusion_matrix\n",
        "\n",
        "print(confusion_matrix(y_true, y_pred))\n",
        "print(classification_report(y_true, y_pred, target_names=fixed_class_names))"
      ],
      "metadata": {
        "colab": {
          "base_uri": "https://localhost:8080/"
        },
        "id": "QtKjO_s9XxdN",
        "outputId": "faf9836b-7e91-4180-b211-821227ef66d1"
      },
      "execution_count": null,
      "outputs": [
        {
          "output_type": "stream",
          "name": "stdout",
          "text": [
            "[[ 3  0  0  0  0  1  0]\n",
            " [ 0  6  0  0  0  0  0]\n",
            " [ 0  0 10  0  0  0  0]\n",
            " [ 0  0  0  4  0  0  0]\n",
            " [ 0  0  0  0 10  0  0]\n",
            " [ 0  0  0  0  0  9  1]\n",
            " [ 0  0  0  0  2  0  8]]\n",
            "                     precision    recall  f1-score   support\n",
            "\n",
            "           Facheiro       1.00      0.75      0.86         4\n",
            "             Jericó       1.00      1.00      1.00         6\n",
            "Macambira-de-flecha       1.00      1.00      1.00        10\n",
            "         Marmeleiro       1.00      1.00      1.00         4\n",
            "         Palmatória       0.83      1.00      0.91        10\n",
            "        Xique-Xique       0.90      0.90      0.90        10\n",
            "              Quipá       0.89      0.80      0.84        10\n",
            "\n",
            "           accuracy                           0.93        54\n",
            "          macro avg       0.95      0.92      0.93        54\n",
            "       weighted avg       0.93      0.93      0.92        54\n",
            "\n"
          ]
        }
      ]
    },
    {
      "cell_type": "code",
      "source": [
        "from tensorflow.keras.preprocessing import image\n",
        "import numpy as np\n",
        "\n",
        "# 1. Carrega a imagem externa\n",
        "img_path = \"/content/Xique-Xique.png\"  # ajuste o caminho\n",
        "img = image.load_img(img_path, target_size=(224, 224))\n",
        "img_array = image.img_to_array(img)\n",
        "img_array = np.expand_dims(img_array, axis=0)\n",
        "\n",
        "# 2. (Opcional) Normalização — SOMENTE se o modelo não tiver Rescaling\n",
        "# img_array = img_array / 255.0\n",
        "\n",
        "# 3. Faz a predição\n",
        "prediction = model.predict(img_array)  # shape (1, num_classes)\n",
        "predicted_index = np.argmax(prediction)\n",
        "confidence = prediction[0][predicted_index]\n",
        "\n",
        "# 4. Pega o nome da classe\n",
        "predicted_class = fixed_class_names[predicted_index]\n",
        "\n",
        "# 5. Mostra o resultado\n",
        "print(f\"Classe prevista: {predicted_class}\")\n",
        "print(f\"Confiança: {confidence * 100:.2f}%\")\n"
      ],
      "metadata": {
        "colab": {
          "base_uri": "https://localhost:8080/"
        },
        "id": "NIAJCn4uYTSE",
        "outputId": "6026e37a-c803-4ef9-b05d-aa73b5b54a13"
      },
      "execution_count": null,
      "outputs": [
        {
          "output_type": "stream",
          "name": "stdout",
          "text": [
            "\u001b[1m1/1\u001b[0m \u001b[32m━━━━━━━━━━━━━━━━━━━━\u001b[0m\u001b[37m\u001b[0m \u001b[1m0s\u001b[0m 110ms/step\n",
            "Classe prevista: Xique-Xique\n",
            "Confiança: 99.83%\n"
          ]
        }
      ]
    },
    {
      "cell_type": "markdown",
      "source": [
        "# Salvando o modelo TFLITE"
      ],
      "metadata": {
        "id": "CYuaY9UirPj7"
      }
    },
    {
      "cell_type": "code",
      "source": [
        "import tensorflow as tf\n",
        "\n",
        "converter = tf.lite.TFLiteConverter.from_keras_model(model)\n",
        "\n",
        "# Conversão com quantização para uint8 (compatível com TFLite do Teachable Machine)\n",
        "converter.optimizations = [tf.lite.Optimize.DEFAULT]\n",
        "converter.inference_input_type = tf.uint8\n",
        "converter.inference_output_type = tf.uint8\n",
        "\n",
        "# Precisa de um conjunto de calibração para inferir escala/zero-point\n",
        "def representative_data_gen():\n",
        "    for images, _ in train_ds.take(100):  # pode usar uma amostra\n",
        "        yield [tf.cast(images, tf.float32)]\n",
        "\n",
        "converter.representative_dataset = representative_data_gen\n",
        "\n",
        "tflite_model = converter.convert()"
      ],
      "metadata": {
        "colab": {
          "base_uri": "https://localhost:8080/"
        },
        "id": "ICisxj69rSKk",
        "outputId": "ad3e3685-0547-4718-eac5-31f3fafe144c"
      },
      "execution_count": null,
      "outputs": [
        {
          "output_type": "stream",
          "name": "stdout",
          "text": [
            "Saved artifact at '/tmp/tmpies05r3b'. The following endpoints are available:\n",
            "\n",
            "* Endpoint 'serve'\n",
            "  args_0 (POSITIONAL_ONLY): TensorSpec(shape=(None, 224, 224, 3), dtype=tf.float32, name='keras_tensor_352')\n",
            "Output Type:\n",
            "  TensorSpec(shape=(None, 7), dtype=tf.float32, name=None)\n",
            "Captures:\n",
            "  132580323708944: TensorSpec(shape=(), dtype=tf.resource, name=None)\n",
            "  132580323706256: TensorSpec(shape=(), dtype=tf.resource, name=None)\n",
            "  132580323711824: TensorSpec(shape=(), dtype=tf.resource, name=None)\n",
            "  132580323709904: TensorSpec(shape=(), dtype=tf.resource, name=None)\n",
            "  132580323719696: TensorSpec(shape=(), dtype=tf.resource, name=None)\n",
            "  132580323710288: TensorSpec(shape=(), dtype=tf.resource, name=None)\n",
            "  132580323706832: TensorSpec(shape=(), dtype=tf.resource, name=None)\n",
            "  132580323710864: TensorSpec(shape=(), dtype=tf.resource, name=None)\n",
            "  132580323710096: TensorSpec(shape=(), dtype=tf.resource, name=None)\n",
            "  132580323720080: TensorSpec(shape=(), dtype=tf.resource, name=None)\n",
            "  132580323711056: TensorSpec(shape=(), dtype=tf.resource, name=None)\n",
            "  132580323719312: TensorSpec(shape=(), dtype=tf.resource, name=None)\n",
            "  132580323718544: TensorSpec(shape=(), dtype=tf.resource, name=None)\n",
            "  132580323718736: TensorSpec(shape=(), dtype=tf.resource, name=None)\n",
            "  132580323709712: TensorSpec(shape=(), dtype=tf.resource, name=None)\n",
            "  132580323717776: TensorSpec(shape=(), dtype=tf.resource, name=None)\n",
            "  132580323717008: TensorSpec(shape=(), dtype=tf.resource, name=None)\n",
            "  132580323716048: TensorSpec(shape=(), dtype=tf.resource, name=None)\n",
            "  132580323716624: TensorSpec(shape=(), dtype=tf.resource, name=None)\n",
            "  132580323711632: TensorSpec(shape=(), dtype=tf.resource, name=None)\n",
            "  132580323704912: TensorSpec(shape=(), dtype=tf.resource, name=None)\n",
            "  132580323712208: TensorSpec(shape=(), dtype=tf.resource, name=None)\n",
            "  132580323716816: TensorSpec(shape=(), dtype=tf.resource, name=None)\n",
            "  132580323705296: TensorSpec(shape=(), dtype=tf.resource, name=None)\n",
            "  132580323706448: TensorSpec(shape=(), dtype=tf.resource, name=None)\n",
            "  132580323717584: TensorSpec(shape=(), dtype=tf.resource, name=None)\n",
            "  132580315118480: TensorSpec(shape=(), dtype=tf.resource, name=None)\n",
            "  132580315116176: TensorSpec(shape=(), dtype=tf.resource, name=None)\n",
            "  132580315116944: TensorSpec(shape=(), dtype=tf.resource, name=None)\n",
            "  132580315114256: TensorSpec(shape=(), dtype=tf.resource, name=None)\n",
            "  132580612111824: TensorSpec(shape=(), dtype=tf.resource, name=None)\n",
            "  132580315119248: TensorSpec(shape=(), dtype=tf.resource, name=None)\n",
            "  132580315119056: TensorSpec(shape=(), dtype=tf.resource, name=None)\n",
            "  132580315117712: TensorSpec(shape=(), dtype=tf.resource, name=None)\n",
            "  132580315117136: TensorSpec(shape=(), dtype=tf.resource, name=None)\n",
            "  132580323419792: TensorSpec(shape=(), dtype=tf.resource, name=None)\n",
            "  132580323423248: TensorSpec(shape=(), dtype=tf.resource, name=None)\n",
            "  132580323425552: TensorSpec(shape=(), dtype=tf.resource, name=None)\n",
            "  132580323426128: TensorSpec(shape=(), dtype=tf.resource, name=None)\n",
            "  132580323419408: TensorSpec(shape=(), dtype=tf.resource, name=None)\n",
            "  132580323422096: TensorSpec(shape=(), dtype=tf.resource, name=None)\n",
            "  132580323421328: TensorSpec(shape=(), dtype=tf.resource, name=None)\n",
            "  132580323413456: TensorSpec(shape=(), dtype=tf.resource, name=None)\n",
            "  132580323421904: TensorSpec(shape=(), dtype=tf.resource, name=None)\n",
            "  132580323423632: TensorSpec(shape=(), dtype=tf.resource, name=None)\n",
            "  132580323410576: TensorSpec(shape=(), dtype=tf.resource, name=None)\n",
            "  132580323410960: TensorSpec(shape=(), dtype=tf.resource, name=None)\n",
            "  132580323415760: TensorSpec(shape=(), dtype=tf.resource, name=None)\n",
            "  132580323412112: TensorSpec(shape=(), dtype=tf.resource, name=None)\n",
            "  132580323424016: TensorSpec(shape=(), dtype=tf.resource, name=None)\n",
            "  132580323411152: TensorSpec(shape=(), dtype=tf.resource, name=None)\n",
            "  132580323411920: TensorSpec(shape=(), dtype=tf.resource, name=None)\n",
            "  132580323411344: TensorSpec(shape=(), dtype=tf.resource, name=None)\n",
            "  132580323410768: TensorSpec(shape=(), dtype=tf.resource, name=None)\n",
            "  132580323420944: TensorSpec(shape=(), dtype=tf.resource, name=None)\n",
            "  132580323418256: TensorSpec(shape=(), dtype=tf.resource, name=None)\n",
            "  132580323418832: TensorSpec(shape=(), dtype=tf.resource, name=None)\n",
            "  132580323425360: TensorSpec(shape=(), dtype=tf.resource, name=None)\n",
            "  132580323419216: TensorSpec(shape=(), dtype=tf.resource, name=None)\n",
            "  132580323416912: TensorSpec(shape=(), dtype=tf.resource, name=None)\n",
            "  132580321318608: TensorSpec(shape=(), dtype=tf.resource, name=None)\n",
            "  132580321318992: TensorSpec(shape=(), dtype=tf.resource, name=None)\n",
            "  132580321319376: TensorSpec(shape=(), dtype=tf.resource, name=None)\n",
            "  132580321319184: TensorSpec(shape=(), dtype=tf.resource, name=None)\n",
            "  132580321313040: TensorSpec(shape=(), dtype=tf.resource, name=None)\n",
            "  132580321320528: TensorSpec(shape=(), dtype=tf.resource, name=None)\n",
            "  132580321320912: TensorSpec(shape=(), dtype=tf.resource, name=None)\n",
            "  132580321321296: TensorSpec(shape=(), dtype=tf.resource, name=None)\n",
            "  132580321321104: TensorSpec(shape=(), dtype=tf.resource, name=None)\n",
            "  132580321317264: TensorSpec(shape=(), dtype=tf.resource, name=None)\n",
            "  132580321322448: TensorSpec(shape=(), dtype=tf.resource, name=None)\n",
            "  132580321322832: TensorSpec(shape=(), dtype=tf.resource, name=None)\n",
            "  132580321323216: TensorSpec(shape=(), dtype=tf.resource, name=None)\n",
            "  132580321323024: TensorSpec(shape=(), dtype=tf.resource, name=None)\n",
            "  132580321318224: TensorSpec(shape=(), dtype=tf.resource, name=None)\n",
            "  132580321324368: TensorSpec(shape=(), dtype=tf.resource, name=None)\n",
            "  132580321324752: TensorSpec(shape=(), dtype=tf.resource, name=None)\n",
            "  132580321325136: TensorSpec(shape=(), dtype=tf.resource, name=None)\n",
            "  132580321324944: TensorSpec(shape=(), dtype=tf.resource, name=None)\n",
            "  132580321320144: TensorSpec(shape=(), dtype=tf.resource, name=None)\n",
            "  132580321326288: TensorSpec(shape=(), dtype=tf.resource, name=None)\n",
            "  132580321326672: TensorSpec(shape=(), dtype=tf.resource, name=None)\n",
            "  132580321327056: TensorSpec(shape=(), dtype=tf.resource, name=None)\n",
            "  132580321326864: TensorSpec(shape=(), dtype=tf.resource, name=None)\n",
            "  132580321322064: TensorSpec(shape=(), dtype=tf.resource, name=None)\n",
            "  132580321328208: TensorSpec(shape=(), dtype=tf.resource, name=None)\n",
            "  132580321327824: TensorSpec(shape=(), dtype=tf.resource, name=None)\n",
            "  132580321327440: TensorSpec(shape=(), dtype=tf.resource, name=None)\n",
            "  132580321328784: TensorSpec(shape=(), dtype=tf.resource, name=None)\n",
            "  132580321323984: TensorSpec(shape=(), dtype=tf.resource, name=None)\n",
            "  132580321325904: TensorSpec(shape=(), dtype=tf.resource, name=None)\n",
            "  132580320691600: TensorSpec(shape=(), dtype=tf.resource, name=None)\n",
            "  132580320690640: TensorSpec(shape=(), dtype=tf.resource, name=None)\n",
            "  132580320691408: TensorSpec(shape=(), dtype=tf.resource, name=None)\n",
            "  132580320690448: TensorSpec(shape=(), dtype=tf.resource, name=None)\n",
            "  132580320693136: TensorSpec(shape=(), dtype=tf.resource, name=None)\n",
            "  132580320693520: TensorSpec(shape=(), dtype=tf.resource, name=None)\n",
            "  132580320693904: TensorSpec(shape=(), dtype=tf.resource, name=None)\n",
            "  132580320693712: TensorSpec(shape=(), dtype=tf.resource, name=None)\n",
            "  132580320690832: TensorSpec(shape=(), dtype=tf.resource, name=None)\n",
            "  132580320695056: TensorSpec(shape=(), dtype=tf.resource, name=None)\n",
            "  132580320695440: TensorSpec(shape=(), dtype=tf.resource, name=None)\n",
            "  132580320695824: TensorSpec(shape=(), dtype=tf.resource, name=None)\n",
            "  132580320695632: TensorSpec(shape=(), dtype=tf.resource, name=None)\n",
            "  132580320691984: TensorSpec(shape=(), dtype=tf.resource, name=None)\n",
            "  132580320696976: TensorSpec(shape=(), dtype=tf.resource, name=None)\n",
            "  132580320697360: TensorSpec(shape=(), dtype=tf.resource, name=None)\n",
            "  132580320697744: TensorSpec(shape=(), dtype=tf.resource, name=None)\n",
            "  132580320697552: TensorSpec(shape=(), dtype=tf.resource, name=None)\n",
            "  132580320692752: TensorSpec(shape=(), dtype=tf.resource, name=None)\n",
            "  132580320698896: TensorSpec(shape=(), dtype=tf.resource, name=None)\n",
            "  132580320699280: TensorSpec(shape=(), dtype=tf.resource, name=None)\n",
            "  132580320699664: TensorSpec(shape=(), dtype=tf.resource, name=None)\n",
            "  132580320699472: TensorSpec(shape=(), dtype=tf.resource, name=None)\n",
            "  132580320694672: TensorSpec(shape=(), dtype=tf.resource, name=None)\n",
            "  132580320700816: TensorSpec(shape=(), dtype=tf.resource, name=None)\n",
            "  132580320701200: TensorSpec(shape=(), dtype=tf.resource, name=None)\n",
            "  132580320701584: TensorSpec(shape=(), dtype=tf.resource, name=None)\n",
            "  132580320701392: TensorSpec(shape=(), dtype=tf.resource, name=None)\n",
            "  132580320696592: TensorSpec(shape=(), dtype=tf.resource, name=None)\n",
            "  132580320702736: TensorSpec(shape=(), dtype=tf.resource, name=None)\n",
            "  132580320703120: TensorSpec(shape=(), dtype=tf.resource, name=None)\n",
            "  132580320703504: TensorSpec(shape=(), dtype=tf.resource, name=None)\n",
            "  132580320703312: TensorSpec(shape=(), dtype=tf.resource, name=None)\n",
            "  132580320698512: TensorSpec(shape=(), dtype=tf.resource, name=None)\n",
            "  132580320704656: TensorSpec(shape=(), dtype=tf.resource, name=None)\n",
            "  132580320705040: TensorSpec(shape=(), dtype=tf.resource, name=None)\n",
            "  132580320705424: TensorSpec(shape=(), dtype=tf.resource, name=None)\n",
            "  132580320705232: TensorSpec(shape=(), dtype=tf.resource, name=None)\n",
            "  132580320700432: TensorSpec(shape=(), dtype=tf.resource, name=None)\n",
            "  132580320702352: TensorSpec(shape=(), dtype=tf.resource, name=None)\n",
            "  132580320575952: TensorSpec(shape=(), dtype=tf.resource, name=None)\n",
            "  132580320576528: TensorSpec(shape=(), dtype=tf.resource, name=None)\n",
            "  132580320704272: TensorSpec(shape=(), dtype=tf.resource, name=None)\n",
            "  132580320703888: TensorSpec(shape=(), dtype=tf.resource, name=None)\n",
            "  132580320577488: TensorSpec(shape=(), dtype=tf.resource, name=None)\n",
            "  132580320577872: TensorSpec(shape=(), dtype=tf.resource, name=None)\n",
            "  132580320578256: TensorSpec(shape=(), dtype=tf.resource, name=None)\n",
            "  132580320578064: TensorSpec(shape=(), dtype=tf.resource, name=None)\n",
            "  132580320576720: TensorSpec(shape=(), dtype=tf.resource, name=None)\n",
            "  132580320579408: TensorSpec(shape=(), dtype=tf.resource, name=None)\n",
            "  132580320579792: TensorSpec(shape=(), dtype=tf.resource, name=None)\n",
            "  132580320580176: TensorSpec(shape=(), dtype=tf.resource, name=None)\n",
            "  132580320579984: TensorSpec(shape=(), dtype=tf.resource, name=None)\n",
            "  132580320576144: TensorSpec(shape=(), dtype=tf.resource, name=None)\n",
            "  132580320581328: TensorSpec(shape=(), dtype=tf.resource, name=None)\n",
            "  132580320581712: TensorSpec(shape=(), dtype=tf.resource, name=None)\n",
            "  132580320582096: TensorSpec(shape=(), dtype=tf.resource, name=None)\n",
            "  132580320581904: TensorSpec(shape=(), dtype=tf.resource, name=None)\n",
            "  132580320577104: TensorSpec(shape=(), dtype=tf.resource, name=None)\n",
            "  132580320583248: TensorSpec(shape=(), dtype=tf.resource, name=None)\n",
            "  132580320583632: TensorSpec(shape=(), dtype=tf.resource, name=None)\n",
            "  132580320584016: TensorSpec(shape=(), dtype=tf.resource, name=None)\n",
            "  132580320583824: TensorSpec(shape=(), dtype=tf.resource, name=None)\n",
            "  132580320579024: TensorSpec(shape=(), dtype=tf.resource, name=None)\n",
            "  132580320585168: TensorSpec(shape=(), dtype=tf.resource, name=None)\n",
            "  132580320585552: TensorSpec(shape=(), dtype=tf.resource, name=None)\n",
            "  132580320585936: TensorSpec(shape=(), dtype=tf.resource, name=None)\n",
            "  132580320585744: TensorSpec(shape=(), dtype=tf.resource, name=None)\n",
            "  132580320580944: TensorSpec(shape=(), dtype=tf.resource, name=None)\n",
            "  132580320587088: TensorSpec(shape=(), dtype=tf.resource, name=None)\n",
            "  132580320587472: TensorSpec(shape=(), dtype=tf.resource, name=None)\n",
            "  132580320587856: TensorSpec(shape=(), dtype=tf.resource, name=None)\n",
            "  132580320587664: TensorSpec(shape=(), dtype=tf.resource, name=None)\n",
            "  132580320582864: TensorSpec(shape=(), dtype=tf.resource, name=None)\n",
            "  132580320589008: TensorSpec(shape=(), dtype=tf.resource, name=None)\n",
            "  132580320589392: TensorSpec(shape=(), dtype=tf.resource, name=None)\n",
            "  132580320589776: TensorSpec(shape=(), dtype=tf.resource, name=None)\n",
            "  132580320589584: TensorSpec(shape=(), dtype=tf.resource, name=None)\n",
            "  132580320584784: TensorSpec(shape=(), dtype=tf.resource, name=None)\n",
            "  132580320590928: TensorSpec(shape=(), dtype=tf.resource, name=None)\n",
            "  132580320590544: TensorSpec(shape=(), dtype=tf.resource, name=None)\n",
            "  132580320590160: TensorSpec(shape=(), dtype=tf.resource, name=None)\n",
            "  132580320591504: TensorSpec(shape=(), dtype=tf.resource, name=None)\n",
            "  132580320586704: TensorSpec(shape=(), dtype=tf.resource, name=None)\n",
            "  132580320588624: TensorSpec(shape=(), dtype=tf.resource, name=None)\n",
            "  132580321674640: TensorSpec(shape=(), dtype=tf.resource, name=None)\n",
            "  132580321675024: TensorSpec(shape=(), dtype=tf.resource, name=None)\n",
            "  132580321674832: TensorSpec(shape=(), dtype=tf.resource, name=None)\n",
            "  132580321673296: TensorSpec(shape=(), dtype=tf.resource, name=None)\n",
            "  132580321676176: TensorSpec(shape=(), dtype=tf.resource, name=None)\n",
            "  132580321676560: TensorSpec(shape=(), dtype=tf.resource, name=None)\n",
            "  132580321676944: TensorSpec(shape=(), dtype=tf.resource, name=None)\n",
            "  132580321676752: TensorSpec(shape=(), dtype=tf.resource, name=None)\n",
            "  132580321674064: TensorSpec(shape=(), dtype=tf.resource, name=None)\n",
            "  132580321678096: TensorSpec(shape=(), dtype=tf.resource, name=None)\n",
            "  132580321678480: TensorSpec(shape=(), dtype=tf.resource, name=None)\n",
            "  132580321678864: TensorSpec(shape=(), dtype=tf.resource, name=None)\n",
            "  132580321678672: TensorSpec(shape=(), dtype=tf.resource, name=None)\n",
            "  132580321673680: TensorSpec(shape=(), dtype=tf.resource, name=None)\n",
            "  132580321680016: TensorSpec(shape=(), dtype=tf.resource, name=None)\n",
            "  132580321680400: TensorSpec(shape=(), dtype=tf.resource, name=None)\n",
            "  132580321680784: TensorSpec(shape=(), dtype=tf.resource, name=None)\n",
            "  132580321680592: TensorSpec(shape=(), dtype=tf.resource, name=None)\n",
            "  132580321675792: TensorSpec(shape=(), dtype=tf.resource, name=None)\n",
            "  132580321681936: TensorSpec(shape=(), dtype=tf.resource, name=None)\n",
            "  132580321682320: TensorSpec(shape=(), dtype=tf.resource, name=None)\n",
            "  132580321682704: TensorSpec(shape=(), dtype=tf.resource, name=None)\n",
            "  132580321682512: TensorSpec(shape=(), dtype=tf.resource, name=None)\n",
            "  132580321677712: TensorSpec(shape=(), dtype=tf.resource, name=None)\n",
            "  132580321683856: TensorSpec(shape=(), dtype=tf.resource, name=None)\n",
            "  132580321684240: TensorSpec(shape=(), dtype=tf.resource, name=None)\n",
            "  132580321684624: TensorSpec(shape=(), dtype=tf.resource, name=None)\n",
            "  132580321684432: TensorSpec(shape=(), dtype=tf.resource, name=None)\n",
            "  132580321679632: TensorSpec(shape=(), dtype=tf.resource, name=None)\n",
            "  132580321685776: TensorSpec(shape=(), dtype=tf.resource, name=None)\n",
            "  132580321686160: TensorSpec(shape=(), dtype=tf.resource, name=None)\n",
            "  132580321686544: TensorSpec(shape=(), dtype=tf.resource, name=None)\n",
            "  132580321686352: TensorSpec(shape=(), dtype=tf.resource, name=None)\n",
            "  132580321681552: TensorSpec(shape=(), dtype=tf.resource, name=None)\n",
            "  132580321687696: TensorSpec(shape=(), dtype=tf.resource, name=None)\n",
            "  132580321688080: TensorSpec(shape=(), dtype=tf.resource, name=None)\n",
            "  132580321688464: TensorSpec(shape=(), dtype=tf.resource, name=None)\n",
            "  132580321688272: TensorSpec(shape=(), dtype=tf.resource, name=None)\n",
            "  132580321683472: TensorSpec(shape=(), dtype=tf.resource, name=None)\n",
            "  132580321685392: TensorSpec(shape=(), dtype=tf.resource, name=None)\n",
            "  132580318970320: TensorSpec(shape=(), dtype=tf.resource, name=None)\n",
            "  132580318970896: TensorSpec(shape=(), dtype=tf.resource, name=None)\n",
            "  132580321687312: TensorSpec(shape=(), dtype=tf.resource, name=None)\n",
            "  132580321686928: TensorSpec(shape=(), dtype=tf.resource, name=None)\n",
            "  132580318971856: TensorSpec(shape=(), dtype=tf.resource, name=None)\n",
            "  132580318972240: TensorSpec(shape=(), dtype=tf.resource, name=None)\n",
            "  132580318972624: TensorSpec(shape=(), dtype=tf.resource, name=None)\n",
            "  132580318972432: TensorSpec(shape=(), dtype=tf.resource, name=None)\n",
            "  132580318971088: TensorSpec(shape=(), dtype=tf.resource, name=None)\n",
            "  132580318973776: TensorSpec(shape=(), dtype=tf.resource, name=None)\n",
            "  132580318970704: TensorSpec(shape=(), dtype=tf.resource, name=None)\n",
            "  132580318974544: TensorSpec(shape=(), dtype=tf.resource, name=None)\n",
            "  132580318974352: TensorSpec(shape=(), dtype=tf.resource, name=None)\n",
            "  132580318975120: TensorSpec(shape=(), dtype=tf.resource, name=None)\n",
            "  132580318974160: TensorSpec(shape=(), dtype=tf.resource, name=None)\n",
            "  132580318976464: TensorSpec(shape=(), dtype=tf.resource, name=None)\n",
            "  132580318976080: TensorSpec(shape=(), dtype=tf.resource, name=None)\n",
            "  132580318976272: TensorSpec(shape=(), dtype=tf.resource, name=None)\n",
            "  132580318970512: TensorSpec(shape=(), dtype=tf.resource, name=None)\n",
            "  132580318977616: TensorSpec(shape=(), dtype=tf.resource, name=None)\n",
            "  132580318978000: TensorSpec(shape=(), dtype=tf.resource, name=None)\n",
            "  132580318978384: TensorSpec(shape=(), dtype=tf.resource, name=None)\n",
            "  132580318978192: TensorSpec(shape=(), dtype=tf.resource, name=None)\n",
            "  132580318976656: TensorSpec(shape=(), dtype=tf.resource, name=None)\n",
            "  132580318979536: TensorSpec(shape=(), dtype=tf.resource, name=None)\n",
            "  132580318979920: TensorSpec(shape=(), dtype=tf.resource, name=None)\n",
            "  132580318980304: TensorSpec(shape=(), dtype=tf.resource, name=None)\n",
            "  132580318980112: TensorSpec(shape=(), dtype=tf.resource, name=None)\n",
            "  132580318977040: TensorSpec(shape=(), dtype=tf.resource, name=None)\n",
            "  132580318981456: TensorSpec(shape=(), dtype=tf.resource, name=None)\n",
            "  132580318981840: TensorSpec(shape=(), dtype=tf.resource, name=None)\n",
            "  132580318982224: TensorSpec(shape=(), dtype=tf.resource, name=None)\n",
            "  132580318982032: TensorSpec(shape=(), dtype=tf.resource, name=None)\n",
            "  132580318977232: TensorSpec(shape=(), dtype=tf.resource, name=None)\n",
            "  132580318983376: TensorSpec(shape=(), dtype=tf.resource, name=None)\n",
            "  132580318983760: TensorSpec(shape=(), dtype=tf.resource, name=None)\n",
            "  132580318984144: TensorSpec(shape=(), dtype=tf.resource, name=None)\n",
            "  132580318983952: TensorSpec(shape=(), dtype=tf.resource, name=None)\n",
            "  132580318979152: TensorSpec(shape=(), dtype=tf.resource, name=None)\n",
            "  132580318985296: TensorSpec(shape=(), dtype=tf.resource, name=None)\n",
            "  132580318984912: TensorSpec(shape=(), dtype=tf.resource, name=None)\n",
            "  132580318984528: TensorSpec(shape=(), dtype=tf.resource, name=None)\n",
            "  132580318985872: TensorSpec(shape=(), dtype=tf.resource, name=None)\n",
            "  132580318981072: TensorSpec(shape=(), dtype=tf.resource, name=None)\n",
            "  132580319891280: TensorSpec(shape=(), dtype=tf.resource, name=None)\n",
            "  132580319892432: TensorSpec(shape=(), dtype=tf.resource, name=None)\n",
            "  132580319891088: TensorSpec(shape=(), dtype=tf.resource, name=None)\n",
            "  132580319893008: TensorSpec(shape=(), dtype=tf.resource, name=None)\n"
          ]
        },
        {
          "output_type": "stream",
          "name": "stderr",
          "text": [
            "/usr/local/lib/python3.11/dist-packages/tensorflow/lite/python/convert.py:997: UserWarning: Statistics for quantized inputs were expected, but not specified; continuing anyway.\n",
            "  warnings.warn(\n"
          ]
        }
      ]
    },
    {
      "cell_type": "code",
      "source": [
        "# Salva no disco\n",
        "with open(\"model.tflite\", \"wb\") as f:\n",
        "    f.write(tflite_model)\n"
      ],
      "metadata": {
        "id": "a2Oz4em1vzRl"
      },
      "execution_count": null,
      "outputs": []
    },
    {
      "cell_type": "code",
      "source": [
        "with open(\"labels.txt\", \"w\", encoding=\"utf-8\") as f:\n",
        "    for idx, label in enumerate(fixed_class_names):\n",
        "        f.write(f\"{idx} {label}\\n\")"
      ],
      "metadata": {
        "id": "GHb0aQ4Nrfth"
      },
      "execution_count": null,
      "outputs": []
    },
    {
      "cell_type": "markdown",
      "source": [
        "# Testando o TFLite"
      ],
      "metadata": {
        "id": "CBwrEe9MAAmj"
      }
    },
    {
      "cell_type": "code",
      "source": [
        "import tensorflow as tf\n",
        "import numpy as np\n",
        "from PIL import Image\n",
        "\n",
        "# === 1. Carregar o modelo .tflite ===\n",
        "interpreter = tf.lite.Interpreter(model_path=\"model.tflite\")\n",
        "interpreter.allocate_tensors()\n",
        "\n",
        "# === 2. Carregar os rótulos (labels.txt com índices fixos) ===\n",
        "labels = []\n",
        "with open(\"labels.txt\", \"r\", encoding=\"utf-8\") as f:\n",
        "    for line in f:\n",
        "        parts = line.strip().split(\" \", 1)\n",
        "        labels.append(parts[1] if len(parts) > 1 else parts[0])\n",
        "\n",
        "# === 3. Detalhes do modelo ===\n",
        "input_details = interpreter.get_input_details()\n",
        "output_details = interpreter.get_output_details()\n",
        "input_shape = input_details[0]['shape']      # Ex: [1, 224, 224, 3]\n",
        "input_dtype = input_details[0]['dtype']      # Geralmente uint8 ou float32\n",
        "output_scale, output_zero_point = output_details[0]['quantization']\n",
        "\n",
        "# === 4. Pré-processamento da imagem ===\n",
        "def preprocess_image(img_path):\n",
        "    img = Image.open(img_path).convert(\"RGB\")\n",
        "    img = img.resize((224, 224))\n",
        "    img_array = np.array(img)\n",
        "\n",
        "    if input_dtype == np.uint8:\n",
        "        return np.expand_dims(img_array.astype(np.uint8), axis=0)\n",
        "    else:\n",
        "        img_array = img_array.astype(np.float32) / 255.0\n",
        "        return np.expand_dims(img_array, axis=0)\n",
        "\n",
        "# === 5. Classificação ===\n",
        "def classify_image(img_path):\n",
        "    input_data = preprocess_image(img_path)\n",
        "\n",
        "    interpreter.set_tensor(input_details[0]['index'], input_data)\n",
        "    interpreter.invoke()\n",
        "\n",
        "    # Obter saída bruta e desscalar\n",
        "    raw_output = interpreter.get_tensor(output_details[0]['index'])[0]\n",
        "    output_data = output_scale * (raw_output.astype(np.float32) - output_zero_point)\n",
        "\n",
        "    predicted_index = np.argmax(output_data)\n",
        "    confidence = output_data[predicted_index]\n",
        "\n",
        "    print(f\"Classe prevista: {labels[predicted_index]}\")\n",
        "    print(f\"Confiança: {confidence * 100:.2f}%\")"
      ],
      "metadata": {
        "id": "pzorcbt4AC1Q"
      },
      "execution_count": null,
      "outputs": []
    },
    {
      "cell_type": "code",
      "source": [
        "# === 6. Testar ===\n",
        "classify_image(\"/content/Teste1.jpg\")  # troque pelo nome da sua imagem"
      ],
      "metadata": {
        "colab": {
          "base_uri": "https://localhost:8080/"
        },
        "id": "xEDgJj6NAzet",
        "outputId": "0e343536-7e62-49e0-b018-78816f4955e1"
      },
      "execution_count": null,
      "outputs": [
        {
          "output_type": "stream",
          "name": "stdout",
          "text": [
            "Classe prevista: Xique-Xique\n",
            "Confiança: 82.03%\n"
          ]
        }
      ]
    }
  ],
  "metadata": {
    "colab": {
      "provenance": [],
      "collapsed_sections": [
        "yhmEZJDZhwyB",
        "stq4lQsCiMjc",
        "bTSXqzWyCHUW"
      ],
      "include_colab_link": true
    },
    "kernelspec": {
      "display_name": "Python 3",
      "name": "python3"
    },
    "language_info": {
      "name": "python"
    }
  },
  "nbformat": 4,
  "nbformat_minor": 0
}